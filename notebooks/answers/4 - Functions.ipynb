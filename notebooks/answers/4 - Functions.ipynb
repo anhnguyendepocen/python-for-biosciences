{
 "cells": [
  {
   "cell_type": "markdown",
   "metadata": {},
   "source": [
    "# Functions"
   ]
  },
  {
   "cell_type": "markdown",
   "metadata": {},
   "source": [
    "## Functions\n",
    "\n",
    "Write a function that converts from Celsius to Kelvin.\n",
    "\n",
    "To convert from Centigrade to Kelvin you add 273.15 to the value.\n",
    "\n",
    "Try your solution for a few values."
   ]
  },
  {
   "cell_type": "code",
   "execution_count": null,
   "metadata": {
    "collapsed": true
   },
   "outputs": [],
   "source": [
    "def celsius_to_kelvin(c):\n",
    "    return c + 273.15\n",
    "\n",
    "celsius_to_kelvin(0)"
   ]
  },
  {
   "cell_type": "markdown",
   "metadata": {
    "collapsed": true
   },
   "source": [
    "Now write another function to convert from Fahrenheit to Celsius.\n",
    "\n",
    "The formulato do so is \n",
    "\n",
    "C = 5/9*(F-32)\n",
    "\n",
    "Again, verify that your function does what is expected."
   ]
  },
  {
   "cell_type": "code",
   "execution_count": null,
   "metadata": {
    "collapsed": true
   },
   "outputs": [],
   "source": [
    "def fahrenheit_to_celsius(f):\n",
    "    return 5/9*(f-32)\n",
    "\n",
    "fahrenheit_to_celsius(0)"
   ]
  },
  {
   "cell_type": "markdown",
   "metadata": {},
   "source": [
    "Now make a function to convert from Fahrenheit to Kelvin.\n",
    "\n",
    "Before you start coding, stop to think for a second. You can actually re-use the two other functions you have made. Fahrenheit to Kelvin can be represented as Fahrenheit to Celsius followed by Celsius to Kelvin."
   ]
  },
  {
   "cell_type": "code",
   "execution_count": null,
   "metadata": {
    "collapsed": true
   },
   "outputs": [],
   "source": [
    "def fahrenheit_to_kelvin(f):\n",
    "    return celsius_to_kelvin(fahrenheit_to_celsius(f))\n",
    "\n",
    "fahrenheit_to_kelvin(0)"
   ]
  },
  {
   "cell_type": "markdown",
   "metadata": {},
   "source": [
    "Finally, implement a more general conversion function that takes as arguments also the input and output scales, e.g. **from_scale** and **to_scale**. Provide default values for **from_scale** and **to_scale**, and call the function with different number of arguments. Try to call the function using both positional and keyword arguments. Which approach is more readable for you?"
   ]
  },
  {
   "cell_type": "code",
   "execution_count": null,
   "metadata": {
    "collapsed": true
   },
   "outputs": [],
   "source": [
    "def temperature_converter(value, from_scale='C', to_scale='K'):\n",
    "    if from_scale == 'C' and to_scale == 'K':\n",
    "        return celsius_to_kelvin(value)\n",
    "    elif from_scale == 'F' and to_scale == 'C':\n",
    "        return fahrenheit_to_celsius(value)\n",
    "    elif from_scale == 'F' and to_scale == 'K':\n",
    "        return fahrenheit_to_kelvin(value)\n",
    "    else:\n",
    "        raise NotImplementedError('Unknown conversion: {} -> {}'.format(from_scale, to_scale))\n",
    "        \n",
    "t = temperature_converter(25.2, from_scale='F')\n",
    "print(t)"
   ]
  }
 ],
 "metadata": {
  "kernelspec": {
   "display_name": "Python 3",
   "language": "python",
   "name": "python3"
  },
  "language_info": {
   "codemirror_mode": {
    "name": "ipython",
    "version": 3
   },
   "file_extension": ".py",
   "mimetype": "text/x-python",
   "name": "python",
   "nbconvert_exporter": "python",
   "pygments_lexer": "ipython3",
   "version": "3.4.9"
  }
 },
 "nbformat": 4,
 "nbformat_minor": 2
}
