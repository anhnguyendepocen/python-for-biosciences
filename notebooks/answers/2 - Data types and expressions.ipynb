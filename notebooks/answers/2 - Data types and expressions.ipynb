{
 "cells": [
  {
   "cell_type": "markdown",
   "metadata": {},
   "source": [
    "# Exercises\n"
   ]
  },
  {
   "cell_type": "markdown",
   "metadata": {},
   "source": [
    "## Tuples and lists\n",
    "1. Create a tuple called ``mytuple``, with the following strings: \"sausage\", \"eggs\" and \"bacon\"\n",
    "2. check it's type using ``type()```\n",
    "3. coerce it to a list using ``list()`` and assign to ``mylist``"
   ]
  },
  {
   "cell_type": "code",
   "execution_count": null,
   "metadata": {
    "collapsed": true
   },
   "outputs": [],
   "source": [
    "mytuple = (\"sausage\", \"eggs\", \"bacon\")\n",
    "type(mytuple)\n",
    "mylist = list(mytuple)"
   ]
  },
  {
   "cell_type": "markdown",
   "metadata": {},
   "source": [
    "Attempt to append the string \"spam\" \n",
    "to ``mylist`` and ``mytuple`` using ``append``."
   ]
  },
  {
   "cell_type": "code",
   "execution_count": null,
   "metadata": {
    "collapsed": true
   },
   "outputs": [],
   "source": [
    "mylist.append(\"spam\")\n",
    "mytuple.append(\"spam\")"
   ]
  },
  {
   "cell_type": "markdown",
   "metadata": {},
   "source": [
    "List objects have a sort()\n",
    "function, use that for sorting the list alphabetically (e.g.\n",
    "mylist.sort() ). What is now the first item of the list?\n",
    "\n",
    "Next, remove the first item from the list, investigate the contents and remove then last item from the list."
   ]
  },
  {
   "cell_type": "code",
   "execution_count": null,
   "metadata": {
    "collapsed": true
   },
   "outputs": [],
   "source": [
    "mylist.sort()\n",
    "print(mylist[0])\n",
    "del mylist[-1]\n",
    "print(mylist)"
   ]
  },
  {
   "cell_type": "markdown",
   "metadata": {},
   "source": [
    "### Slicing\n",
    "\n",
    "Using ``range()`` create a list that has the numbers from 50 to 0 with a step of -2. Note that in Python 3 ``range()`` returns an *iterator* (we'll discuss iterators more later on), ``list(range(args))`` returns an actual list."
   ]
  },
  {
   "cell_type": "code",
   "execution_count": null,
   "metadata": {
    "collapsed": true
   },
   "outputs": [],
   "source": [
    "numbers = list(range(50, 0, -2))"
   ]
  },
  {
   "cell_type": "markdown",
   "metadata": {},
   "source": [
    "Using slicing syntax, select\n",
    "* the last 4 items from the list\n",
    "* the items from index 10 to index 13\n",
    "* the first 5 items from the list"
   ]
  },
  {
   "cell_type": "code",
   "execution_count": null,
   "metadata": {
    "collapsed": true
   },
   "outputs": [],
   "source": [
    "print(numbers[-4])\n",
    "print(numbers[10:14])\n",
    "print(numbers[:5])"
   ]
  },
  {
   "cell_type": "markdown",
   "metadata": {},
   "source": [
    "Read up on the [stride syntax](https://en.wikipedia.org/wiki/Array_slicing#1991:_Python) . Then using it select \n",
    "* every third value in the list\n",
    "* the values with an odd-numbered index in the list"
   ]
  },
  {
   "cell_type": "code",
   "execution_count": null,
   "metadata": {
    "collapsed": true
   },
   "outputs": [],
   "source": [
    "print(numbers[::3])\n",
    "print(numbers[1::2])"
   ]
  },
  {
   "cell_type": "markdown",
   "metadata": {},
   "source": [
    "### Multidimensional lists\n",
    "Create a two dimensional list of (x,y) value pairs, i.e.\n",
    "arbitrary long list whose elements are two element lists.\n",
    "\n",
    "Are you able to use slicing for extracting only the y values? (Answer is no, but try it in any case)"
   ]
  },
  {
   "cell_type": "code",
   "execution_count": null,
   "metadata": {
    "collapsed": true
   },
   "outputs": [],
   "source": [
    "coordinates = [[0.1, 4.5], [-1.2, 3], [2.2, -5], [3.4, 1.6]]"
   ]
  },
  {
   "cell_type": "markdown",
   "metadata": {},
   "source": [
    "## Dictionaries\n",
    "Create a dictionary whose keys are the fruits “pineapple”, “strawberry”, and “banana”. As values use numbers\n",
    "representing e.g. prices. \n",
    "\n",
    "Add “orange” to the dictionary and then remove “banana” from the dictionary. Investigate the contents of dictionary and pay attention to the order of key-value pairs."
   ]
  },
  {
   "cell_type": "code",
   "execution_count": null,
   "metadata": {
    "collapsed": true
   },
   "outputs": [],
   "source": [
    "fruits = {'banana' : 5, 'strawberry' : 7, 'pineapple' : 3}\n",
    "print(fruits)\n",
    "fruits['orange'] = 4.5\n",
    "print(fruits)\n",
    "del fruits['banana']\n",
    "print(fruits)"
   ]
  },
  {
   "cell_type": "markdown",
   "metadata": {},
   "source": [
    "# Bonus exercises\n",
    "Create a new “fruits” dictionary where the values are also\n",
    "dictionaries containing key-value pairs for color and weight,\n",
    "e.g. \n",
    "```\n",
    "fruits['apple'] = {'color':'green', 'weight': 120}\n",
    "```\n",
    "Change the color of *apple* from green to red"
   ]
  },
  {
   "cell_type": "code",
   "execution_count": null,
   "metadata": {
    "collapsed": true
   },
   "outputs": [],
   "source": [
    "apple = {'color' : 'green', 'weight' : 120}\n",
    "orange = {'color' : 'orange', 'weight' : 110}\n",
    "fruits = {'apple' : apple, 'orange' : orange}\n",
    "print(fruits)\n",
    "fruits['apple']['color'] = 'red'\n",
    "print(fruits)"
   ]
  },
  {
   "cell_type": "markdown",
   "metadata": {},
   "source": [
    "It is often useful idiom to create empty lists or dictionaries\n",
    "and add contents little by little.\n",
    "\n",
    "Create first an empty dictionary for a mid-term grades of\n",
    "students. Then, add a key-value pairs where the keys are\n",
    "student names and the values are empty lists. \n",
    "\n",
    "Finally, add values to the lists and investigate the contents of the\n",
    "dictionary."
   ]
  },
  {
   "cell_type": "code",
   "execution_count": null,
   "metadata": {
    "collapsed": true
   },
   "outputs": [],
   "source": [
    "grades = {}\n",
    "grades['Jussi'] = []\n",
    "grades['Jyry'] = []\n",
    "print(grades)\n",
    "grades['Jussi'].append(2)\n",
    "grades['Jyry'].append(5)\n",
    "print(grades)\n",
    "grades['Jussi'].append(3)\n",
    "grades['Jyry'].append(4)\n",
    "print(grades)"
   ]
  }
 ],
 "metadata": {
  "kernelspec": {
   "display_name": "Python 3",
   "language": "python",
   "name": "python3"
  },
  "language_info": {
   "codemirror_mode": {
    "name": "ipython",
    "version": 3
   },
   "file_extension": ".py",
   "mimetype": "text/x-python",
   "name": "python",
   "nbconvert_exporter": "python",
   "pygments_lexer": "ipython3",
   "version": "3.4.9"
  }
 },
 "nbformat": 4,
 "nbformat_minor": 2
}
