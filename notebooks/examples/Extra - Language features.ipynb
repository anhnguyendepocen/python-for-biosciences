{
 "cells": [
  {
   "cell_type": "markdown",
   "metadata": {},
   "source": [
    "# Extras\n",
    "\n",
    "This covers additional useful material that we may or may not have time to go over in the course."
   ]
  },
  {
   "cell_type": "markdown",
   "metadata": {},
   "source": [
    "## Generators\n",
    "\n",
    "Consider the following code that computes the sum of squared numbers up to N."
   ]
  },
  {
   "cell_type": "code",
   "execution_count": null,
   "metadata": {},
   "outputs": [],
   "source": [
    "def squared_numbers(n):\n",
    "    return [x*x for x in range(n)]\n",
    "\n",
    "def sum_squares(n):\n",
    "    return sum(squared_numbers(n+1))\n",
    "\n",
    "sum_squares(20000000)"
   ]
  },
  {
   "cell_type": "markdown",
   "metadata": {},
   "source": [
    "The code works and is all great, but it has one flaw: it creates a list of all the numbers from 1 to N in memory. If N were large, we would use a lot of extra memory, which might lead to the system swapping or running out of memory. \n",
    "\n",
    "In this case it is not necessary to create the entire list in memory. The ```sum``` function iterates over it's input and only needs the cumulative sum and the next value at a time.\n",
    "\n",
    "The Python keyword ``yield``is used to achieve this. Using ``yield`` in a statement automatically makes that statement a generator expression. A generator expression can be iterated over like a list, but it only creates new values as they are needed."
   ]
  },
  {
   "cell_type": "code",
   "execution_count": null,
   "metadata": {},
   "outputs": [],
   "source": [
    "def squared_numbers_alternate(n):\n",
    "    for x in range(n):\n",
    "        yield x*x\n",
    "        \n",
    "def sum_squares_alternate(n):\n",
    "    return sum(squared_numbers_alternate(n+1))\n",
    "\n",
    "sum_squares(20000000)"
   ]
  },
  {
   "cell_type": "markdown",
   "metadata": {},
   "source": [
    "At this you may wonder, doesn't ``range()`` return a list? The short answer is no, but the details are complicated."
   ]
  },
  {
   "cell_type": "markdown",
   "metadata": {},
   "source": [
    "### Synthesis\n",
    "\n",
    "Python is often used to process text files, some of which may be quite large. Typically a single row in a text file isn't large, however. The following type of pattern permits one to cleanly read in a file much larger than what would fit memory one line at a time."
   ]
  },
  {
   "cell_type": "code",
   "execution_count": null,
   "metadata": {},
   "outputs": [],
   "source": [
    "import os\n",
    "print(os.getcwd())\n",
    "def grep(fileobject, pattern):\n",
    "    for index, line in enumerate(fileobject):\n",
    "        if pattern in line:\n",
    "            # start indexing from 1 for humans\n",
    "            # remove the white space at the end\n",
    "            yield index+1, line.strip()\n",
    "        \n",
    "def process_file(input_, pattern):\n",
    "    with open(input_, \"r\") as file_:\n",
    "        for idx, line in grep(file_, pattern):\n",
    "            print(\"line {} matches: {}\".format(idx, line))\n",
    "    print(\"done searching\")    \n",
    "\n",
    "process_file(\"../data/grep.txt\", \"test\")"
   ]
  },
  {
   "cell_type": "markdown",
   "metadata": {},
   "source": [
    "## Lambdas\n",
    "\n",
    "\n",
    "One of the paradigms Python supports are lambdas\n",
    "\n",
    "```\n",
    "square = lambda x: x*x\n",
    "```\n",
    "Here the result of the lambda statement, a function object is assigned to the variable square. The statement ```lambda x```denotes that this lambda statement takes in one parameter, x. The ``: x*x``say that the return value of the lambda statement is x*x.\n",
    "\n",
    "It is equivalent to\n",
    "```\n",
    "def square(x):\n",
    "    return x*x\n",
    "```\n",
    "\n",
    "The beauty of lambda statements is that they don't need to be assigned, but can rather created on the fly."
   ]
  },
  {
   "cell_type": "code",
   "execution_count": null,
   "metadata": {},
   "outputs": [],
   "source": [
    "square = lambda x: x*x\n",
    "print(square(4))\n",
    "\n",
    "(lambda x: x-1).__call__(1)"
   ]
  },
  {
   "cell_type": "markdown",
   "metadata": {},
   "source": [
    "A typical use case for lambda might be in accessing members of an object in a generic function.\n",
    "\n",
    "For instance the sort-function takes in a keyword parameter ``key``. It is trivial to do simple operations, like invert a value etc."
   ]
  },
  {
   "cell_type": "code",
   "execution_count": 8,
   "metadata": {},
   "outputs": [
    {
     "data": {
      "text/plain": [
       "[('banana', 3), ('apple', 5), ('pear', 10)]"
      ]
     },
     "execution_count": 8,
     "metadata": {},
     "output_type": "execute_result"
    }
   ],
   "source": [
    "my_list = [\n",
    "    (\"apple\", 5),\n",
    "    (\"banana\", 3),\n",
    "    (\"pear\", 10)\n",
    "]\n",
    "my_list.sort(key= lambda x: x[1]) #sort by the number\n",
    "my_list"
   ]
  },
  {
   "cell_type": "markdown",
   "metadata": {},
   "source": [
    "Lambda has many other uses but those are left as a thought exercise.\n",
    "\n",
    "Write a ``mean`` function that takes in a list and computes a mean of the values accessed by function ``key`` that is given as a parameter to the function.\n",
    "\n",
    "The default key is best left as a function that returns it's parameter, i.e. \n",
    "``lambda x: x```\n",
    "."
   ]
  },
  {
   "cell_type": "code",
   "execution_count": null,
   "metadata": {},
   "outputs": [],
   "source": [
    "def mean(...):\n",
    "    pass"
   ]
  }
 ],
 "metadata": {
  "kernelspec": {
   "display_name": "Python 3",
   "language": "python",
   "name": "python3"
  },
  "language_info": {
   "codemirror_mode": {
    "name": "ipython",
    "version": 3
   },
   "file_extension": ".py",
   "mimetype": "text/x-python",
   "name": "python",
   "nbconvert_exporter": "python",
   "pygments_lexer": "ipython3",
   "version": "3.4.9"
  }
 },
 "nbformat": 4,
 "nbformat_minor": 2
}
