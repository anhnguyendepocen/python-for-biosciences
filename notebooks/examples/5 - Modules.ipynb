{
 "cells": [
  {
   "cell_type": "markdown",
   "metadata": {},
   "source": [
    "# Modules"
   ]
  },
  {
   "cell_type": "markdown",
   "metadata": {},
   "source": [
    "## Modules and importing\n",
    "\n",
    "Modules are extensions that can be imported to Python to provide additional functionality, e.g.\n",
    "* New data structures and data types\n",
    "* Functions\n",
    "\n",
    "There are a plethora of modules available in the [Python standard library](https://docs.python.org/3/library/). Those are always available to you but you must import them.\n",
    "\n",
    "Of course, you must also be aware of the fact that such a module exists. It is usually beneficial to be a bit lazy and assume someone has already solved your problem. Most of the time someone already has!"
   ]
  },
  {
   "cell_type": "code",
   "execution_count": null,
   "metadata": {
    "collapsed": true
   },
   "outputs": [],
   "source": [
    "import math\n",
    "\n",
    "def circle_circumference(r):\n",
    "    return 2*math.pi*r\n",
    "\n",
    "circle_circumference(3)"
   ]
  },
  {
   "cell_type": "markdown",
   "metadata": {},
   "source": [
    "At it's simplest a module can just be a python file.\n",
    "\n",
    "\n",
    "Let's create a file called mymodule.py in using jupyter (New -> Text File). Make sure to create the file in the same directory as this notebook. Edit the contents of the file to be:\n",
    "\n",
    "```\n",
    "def fancy_function(x):\n",
    "    return x + x\n",
    "```\n",
    "\n",
    "And save the file.\n",
    "\n",
    "Now you can"
   ]
  },
  {
   "cell_type": "code",
   "execution_count": null,
   "metadata": {
    "collapsed": true
   },
   "outputs": [],
   "source": [
    "from mymodule import fancy_function\n",
    "\n",
    "print(fancy_function(1))\n",
    "print(fancy_function(\"hi\"))"
   ]
  },
  {
   "cell_type": "markdown",
   "metadata": {},
   "source": [
    "It is also possible to import only a single member from a module, like a variable or a fuction."
   ]
  },
  {
   "cell_type": "code",
   "execution_count": null,
   "metadata": {
    "collapsed": true
   },
   "outputs": [],
   "source": [
    "from math import exp\n",
    "\n",
    "print(exp(1)) # which exponent is this\n",
    "\n",
    "def circle_area(r):\n",
    "    if r < 0:\n",
    "        return 0\n",
    "    else:\n",
    "        # you can also import inside functions or other code blocks\n",
    "        from math import pi\n",
    "        return pi*r*r\n",
    "print(circle_area(2))"
   ]
  },
  {
   "cell_type": "markdown",
   "metadata": {},
   "source": [
    "Whether to import the entire module or only what you need depends on your circumstances and how the module has been designed to be used. It's usually good to pick a practice inside a project and stick to it.\n",
    "\n",
    "When a .py file is imported, all the statements are executed\n",
    " * Function body is executed only when calling the function\n",
    " * Errors are necessarily not catch at import time\n",
    " * If module is imported multiple times, the statements are executed only in first import\n",
    "   * Even if .py file is changed, module is not reloaded\n",
    " \n",
    "Reloading the module can be forced with the `reload` function from the `importlib` module:"
   ]
  },
  {
   "cell_type": "code",
   "execution_count": 1,
   "metadata": {
    "collapsed": true
   },
   "outputs": [],
   "source": [
    "import importlib\n",
    "importlib.reload(mymodule)"
   ]
  }
 ],
 "metadata": {
  "kernelspec": {
   "display_name": "Python 3",
   "language": "python",
   "name": "python3"
  },
  "language_info": {
   "codemirror_mode": {
    "name": "ipython",
    "version": 3
   },
   "file_extension": ".py",
   "mimetype": "text/x-python",
   "name": "python",
   "nbconvert_exporter": "python",
   "pygments_lexer": "ipython3",
   "version": "3.4.9"
  }
 },
 "nbformat": 4,
 "nbformat_minor": 1
}
