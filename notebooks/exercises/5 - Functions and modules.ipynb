{
 "cells": [
  {
   "cell_type": "markdown",
   "metadata": {},
   "source": [
    "# Functions"
   ]
  },
  {
   "cell_type": "markdown",
   "metadata": {},
   "source": [
    "## Functions\n",
    "\n",
    "Write a function that converts from Celsius to Kelvin.\n",
    "\n",
    "To convert from Celsius to Kelvin you add 273.15 from the value.\n",
    "\n",
    "Try your solution for a few values."
   ]
  },
  {
   "cell_type": "code",
   "execution_count": null,
   "metadata": {
    "collapsed": true
   },
   "outputs": [],
   "source": [
    "def celsius_to_kelvin(c):\n",
    "    # implementation here\n",
    "    pass\n",
    "\n",
    "celsius_to_kelvin(0)"
   ]
  },
  {
   "cell_type": "markdown",
   "metadata": {
    "collapsed": true
   },
   "source": [
    "Now write another function to convert from Fahrenheit to Celsius.\n",
    "\n",
    "The formula for doing so is \n",
    "\n",
    "C = 5/9*(F-32)\n",
    "\n",
    "Again, verify that your function does what is expected."
   ]
  },
  {
   "cell_type": "code",
   "execution_count": null,
   "metadata": {
    "collapsed": true
   },
   "outputs": [],
   "source": [
    "def fahrenheit_to_celsius(f):\n",
    "    pass\n",
    "\n",
    "fahrenheit_to_celsius(0)"
   ]
  },
  {
   "cell_type": "markdown",
   "metadata": {},
   "source": [
    "Now make a function to convert from Fahrenheit to Kelvin.\n",
    "\n",
    "Before you start coding, stop to think for a second. You can actually re-use the two other functions you have made. Fahrenheit to Kelvin can be represented as Fahrenheit to Celsius followed by Celsius to Kelvin."
   ]
  },
  {
   "cell_type": "code",
   "execution_count": null,
   "metadata": {
    "collapsed": true
   },
   "outputs": [],
   "source": [
    "def fahrenheit_to_kelvin(f):\n",
    "    pass\n",
    "\n",
    "fahrenheit_to_kelvin(0)"
   ]
  },
  {
   "cell_type": "markdown",
   "metadata": {},
   "source": [
    "Finally, implement a more general conversion function that takes as arguments also the input and output scales, e.g. **from_scale** and **to_scale**. Provide default values for **from_scale** and **to_scale**, and call the function with different number of arguments. Try to call the function using both positional and keyword arguments. Which approach is more readable for you?"
   ]
  },
  {
   "cell_type": "code",
   "execution_count": null,
   "metadata": {
    "collapsed": true
   },
   "outputs": [],
   "source": []
  },
  {
   "cell_type": "markdown",
   "metadata": {},
   "source": [
    "# Modules"
   ]
  },
  {
   "cell_type": "markdown",
   "metadata": {},
   "source": [
    "## import\n",
    "Let's start by using a module. \n",
    "\n",
    "There is a module called `sample_module` in the same directory as this notebook. Inside it there is a function called `sample_function`.\n",
    "\n",
    "Import the function and call it to see what happens. Can you do the import in two different ways?"
   ]
  },
  {
   "cell_type": "code",
   "execution_count": null,
   "metadata": {
    "collapsed": true
   },
   "outputs": [],
   "source": []
  },
  {
   "cell_type": "markdown",
   "metadata": {},
   "source": [
    "## import as\n",
    "\n",
    "It is possible to rename the function you are importing by using the syntax\n",
    "\n",
    "```from module import function_name as another_function_name\n",
    "```\n",
    "\n",
    "Go ahead and import `sample_function` using a more descriptive name and call it."
   ]
  },
  {
   "cell_type": "code",
   "execution_count": null,
   "metadata": {
    "collapsed": true
   },
   "outputs": [],
   "source": []
  },
  {
   "cell_type": "markdown",
   "metadata": {},
   "source": [
    "## Creating a module\n",
    "\n",
    "Now create a module called mymodule (i.e. mymodule.py) using the text editor functionality of Jupyter Notebooks.\n",
    "\n",
    "Add the following code to the module.\n",
    "\n",
    "```\n",
    "def add(a, b):\n",
    "    return a + b\n",
    "```\n",
    "\n",
    "Save the file and import your newly created module in the cell below.\n",
    "\n",
    "If you want you can also use a more inventive name than mymodule.py."
   ]
  },
  {
   "cell_type": "code",
   "execution_count": null,
   "metadata": {
    "collapsed": true
   },
   "outputs": [],
   "source": []
  },
  {
   "cell_type": "markdown",
   "metadata": {},
   "source": [
    "## Extra: reloading the module\n",
    "\n",
    "Add a new function ``subtract`` to your above module and try to import it again. Are you able to use the ``subtract`` function?"
   ]
  },
  {
   "cell_type": "code",
   "execution_count": null,
   "metadata": {
    "collapsed": true
   },
   "outputs": [],
   "source": []
  },
  {
   "cell_type": "markdown",
   "metadata": {},
   "source": [
    "Python keeps track of modules that are imported, and performs the actual import only with the first ``import mymodule`` statement. If a module is modified during an interactive session, module needs to be explicitly reloaded in order to changes take effect. Reloading can be done with the function ``reload`` in the built-in module ``importlib``:"
   ]
  },
  {
   "cell_type": "code",
   "execution_count": null,
   "metadata": {
    "collapsed": true
   },
   "outputs": [],
   "source": [
    "from importlib import reload\n",
    "reload(mymodule)"
   ]
  }
 ],
 "metadata": {
  "kernelspec": {
   "display_name": "Python 3",
   "language": "python",
   "name": "python3"
  },
  "language_info": {
   "codemirror_mode": {
    "name": "ipython",
    "version": 3
   },
   "file_extension": ".py",
   "mimetype": "text/x-python",
   "name": "python",
   "nbconvert_exporter": "python",
   "pygments_lexer": "ipython3",
   "version": "3.4.9"
  }
 },
 "nbformat": 4,
 "nbformat_minor": 2
}
