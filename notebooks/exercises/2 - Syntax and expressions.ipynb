{
 "cells": [
  {
   "cell_type": "markdown",
   "metadata": {},
   "source": [
    "# Python syntax and expressions\n"
   ]
  },
  {
   "cell_type": "markdown",
   "metadata": {},
   "source": [
    "## Basic syntax\n",
    "Try to assign the value 6 to the following variable names\n",
    "````\n",
    "first-name\n",
    "family_name\n",
    "3PO\n",
    "_variable\n",
    "inb4tool8\n",
    "print\n",
    "in\n",
    "```\n",
    "\n",
    "Which of them are valid to assign to? \n",
    "\n",
    "Extra: why do you think the ones that cause an error are not valid? What's the reason?"
   ]
  },
  {
   "cell_type": "code",
   "execution_count": null,
   "metadata": {
    "collapsed": true
   },
   "outputs": [],
   "source": []
  },
  {
   "cell_type": "markdown",
   "metadata": {},
   "source": [
    "You probably noticed that even though ``print`` is a method in the namespace it was still valid to create a variable called ``print``. If you now try to actually print something, you will get an error. For built-in functions (such as print) one can recover with the following code"
   ]
  },
  {
   "cell_type": "code",
   "execution_count": null,
   "metadata": {
    "collapsed": true
   },
   "outputs": [],
   "source": [
    "print = __builtin__.print\n",
    "print(\"hello\")"
   ]
  },
  {
   "cell_type": "markdown",
   "metadata": {},
   "source": [
    "Are the following pieces valid Python code? (if not sure you can test by copy-pasting into the cell below)\n",
    "\n",
    "** Case 1 **\n",
    "```\n",
    "numbers = [4, 5, 6, 9, 11]\n",
    "sum = 0\n",
    "for n in numbers:\n",
    "    sum += n\n",
    "  print(\"Sum is now\", sum)\n",
    "```\n",
    "\n",
    "** Case 2 **\n",
    "```\n",
    "x = 11\n",
    "test(x)\n",
    "\n",
    "def test(a):\n",
    "    if a < 0:\n",
    "        print(\"negative number\")\n",
    "```"
   ]
  },
  {
   "cell_type": "code",
   "execution_count": null,
   "metadata": {},
   "outputs": [],
   "source": []
  },
  {
   "cell_type": "markdown",
   "metadata": {},
   "source": [
    "## Getting help\n",
    "Most Python functions and objects can provide documentation via **help** function. Look the documentation of e.g open function with ```help(open)```\n"
   ]
  },
  {
   "cell_type": "code",
   "execution_count": null,
   "metadata": {
    "collapsed": true
   },
   "outputs": [],
   "source": []
  },
  {
   "cell_type": "markdown",
   "metadata": {},
   "source": [
    "## Tabulator completion\n",
    "Play with tabulator completion, by typing just ```pr``` and pressing then tabulator key. Pressing Shift-tab (after finalising completion) one sees also short documentation about the function or object. This works also on variable names, try e.g.\n",
    "```\n",
    "my_extremely_long_variable_name = 5\n",
    "my <TAB>\n",
    "```"
   ]
  },
  {
   "cell_type": "code",
   "execution_count": null,
   "metadata": {
    "collapsed": true
   },
   "outputs": [],
   "source": []
  },
  {
   "cell_type": "markdown",
   "metadata": {},
   "source": [
    "## Numerical expressions\n",
    "\n",
    "Try to execute some simple statements and expressions (one at a time) e.g\n",
    "```\n",
    "1 / 2\n",
    "1 // 2\n",
    "5 + 5\n",
    "10 / 2 + 5\n",
    "10 / (2 + 5)\n",
    "2.3**4.5\n",
    "```\n",
    "Do you understand what is going on in all cases?"
   ]
  },
  {
   "cell_type": "code",
   "execution_count": null,
   "metadata": {
    "collapsed": true
   },
   "outputs": [],
   "source": []
  },
  {
   "cell_type": "markdown",
   "metadata": {},
   "source": [
    "## Strings\n",
    "Try to assign the following two sentences into two different variables, and after assignment print the variables out.\n",
    "```\n",
    "Python isn't difficult\n",
    "Zen of Python: \"Beatiful is better than ugly\"\n",
    "```"
   ]
  },
  {
   "cell_type": "code",
   "execution_count": null,
   "metadata": {
    "collapsed": true
   },
   "outputs": [],
   "source": []
  }
 ],
 "metadata": {
  "kernelspec": {
   "display_name": "Python 3",
   "language": "python",
   "name": "python3"
  },
  "language_info": {
   "codemirror_mode": {
    "name": "ipython",
    "version": 3
   },
   "file_extension": ".py",
   "mimetype": "text/x-python",
   "name": "python",
   "nbconvert_exporter": "python",
   "pygments_lexer": "ipython3",
   "version": "3.4.9"
  }
 },
 "nbformat": 4,
 "nbformat_minor": 2
}
